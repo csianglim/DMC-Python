{
 "cells": [
  {
   "cell_type": "code",
   "execution_count": 16,
   "id": "04ae301a",
   "metadata": {},
   "outputs": [],
   "source": [
    "import numpy as np\n",
    "limits = 10\n",
    "d = np.linspace(-limits, limits, 200)\n",
    "x,y = np.meshgrid(d,d)"
   ]
  },
  {
   "cell_type": "code",
   "execution_count": 17,
   "id": "ae3ed735",
   "metadata": {},
   "outputs": [],
   "source": [
    "G11 = -0.200\n",
    "G12 = -0.072\n",
    "G21 = 0.125\n",
    "G22 = -0.954\n",
    "\n",
    "CV1Lo = -1\n",
    "CV1Hi = 1\n",
    "\n",
    "CV2Lo = -2\n",
    "CV2Hi = 2.5\n"
   ]
  },
  {
   "cell_type": "code",
   "execution_count": 18,
   "id": "5f8c6d07",
   "metadata": {},
   "outputs": [],
   "source": [
    "c1 = G11*x+G12*y <= CV1Hi\n",
    "y_c1 = (CV1Hi - G11*d)/G12"
   ]
  },
  {
   "cell_type": "code",
   "execution_count": 27,
   "id": "7eec6df2",
   "metadata": {},
   "outputs": [
    {
     "data": {
      "text/plain": [
       "<matplotlib.image.AxesImage at 0x7f5fdeecd4f0>"
      ]
     },
     "execution_count": 27,
     "metadata": {},
     "output_type": "execute_result"
    },
    {
     "data": {
      "image/png": "[encoded data removed]",
      "text/plain": [
       "<Figure size 360x360 with 1 Axes>"
      ]
     },
     "metadata": {
      "needs_background": "light"
     },
     "output_type": "display_data"
    }
   ],
   "source": [
    "import matplotlib.pyplot as plt\n",
    "plt.figure(figsize=(5,5))\n",
    "plt.imshow(c1.astype(int), extent=(x.min(),x.max(),y.min(),y.max()), origin=\"lower\", cmap=\"Blues\", alpha=0.1)"
   ]
  },
  {
   "cell_type": "code",
   "execution_count": 29,
   "id": "962a58c0",
   "metadata": {},
   "outputs": [
    {
     "data": {
      "text/plain": [
       "(-10.0, 10.0)"
      ]
     },
     "execution_count": 29,
     "metadata": {},
     "output_type": "execute_result"
    },
    {
     "data": {
      "image/png": "[encoded data removed]",
      "text/plain": [
       "<Figure size 360x360 with 1 Axes>"
      ]
     },
     "metadata": {
      "needs_background": "light"
     },
     "output_type": "display_data"
    }
   ],
   "source": [
    "plt.figure(figsize=(5,5))\n",
    "plt.plot(d, y_c1)\n",
    "plt.xlim([-limits, limits])\n",
    "plt.ylim([-limits, limits])"
   ]
  },
  {
   "cell_type": "code",
   "execution_count": 30,
   "id": "5a8cc977",
   "metadata": {},
   "outputs": [
    {
     "data": {
      "text/plain": [
       "array([ 13.88888889,  13.60971524,  13.3305416 ,  13.05136795,\n",
       "        12.7721943 ,  12.49302066,  12.21384701,  11.93467337,\n",
       "        11.65549972,  11.37632607,  11.09715243,  10.81797878,\n",
       "        10.53880514,  10.25963149,   9.98045784,   9.7012842 ,\n",
       "         9.42211055,   9.14293691,   8.86376326,   8.58458961,\n",
       "         8.30541597,   8.02624232,   7.74706868,   7.46789503,\n",
       "         7.18872138,   6.90954774,   6.63037409,   6.35120045,\n",
       "         6.0720268 ,   5.79285315,   5.51367951,   5.23450586,\n",
       "         4.95533222,   4.67615857,   4.39698492,   4.11781128,\n",
       "         3.83863763,   3.55946399,   3.28029034,   3.00111669,\n",
       "         2.72194305,   2.4427694 ,   2.16359576,   1.88442211,\n",
       "         1.60524846,   1.32607482,   1.04690117,   0.76772753,\n",
       "         0.48855388,   0.20938023,  -0.06979341,  -0.34896706,\n",
       "        -0.6281407 ,  -0.90731435,  -1.186488  ,  -1.46566164,\n",
       "        -1.74483529,  -2.02400893,  -2.30318258,  -2.58235623,\n",
       "        -2.86152987,  -3.14070352,  -3.41987716,  -3.69905081,\n",
       "        -3.97822446,  -4.2573981 ,  -4.53657175,  -4.81574539,\n",
       "        -5.09491904,  -5.37409269,  -5.65326633,  -5.93243998,\n",
       "        -6.21161362,  -6.49078727,  -6.76996092,  -7.04913456,\n",
       "        -7.32830821,  -7.60748185,  -7.8866555 ,  -8.16582915,\n",
       "        -8.44500279,  -8.72417644,  -9.00335008,  -9.28252373,\n",
       "        -9.56169738,  -9.84087102, -10.12004467, -10.39921831,\n",
       "       -10.67839196, -10.95756561, -11.23673925, -11.5159129 ,\n",
       "       -11.79508654, -12.07426019, -12.35343384, -12.63260748,\n",
       "       -12.91178113, -13.19095477, -13.47012842, -13.74930207,\n",
       "       -14.02847571, -14.30764936, -14.586823  , -14.86599665,\n",
       "       -15.1451703 , -15.42434394, -15.70351759, -15.98269123,\n",
       "       -16.26186488, -16.54103853, -16.82021217, -17.09938582,\n",
       "       -17.37855946, -17.65773311, -17.93690676, -18.2160804 ,\n",
       "       -18.49525405, -18.77442769, -19.05360134, -19.33277499,\n",
       "       -19.61194863, -19.89112228, -20.17029592, -20.44946957,\n",
       "       -20.72864322, -21.00781686, -21.28699051, -21.56616415,\n",
       "       -21.8453378 , -22.12451145, -22.40368509, -22.68285874,\n",
       "       -22.96203238, -23.24120603, -23.52037968, -23.79955332,\n",
       "       -24.07872697, -24.35790061, -24.63707426, -24.91624791,\n",
       "       -25.19542155, -25.4745952 , -25.75376884, -26.03294249,\n",
       "       -26.31211614, -26.59128978, -26.87046343, -27.14963707,\n",
       "       -27.42881072, -27.70798437, -27.98715801, -28.26633166,\n",
       "       -28.5455053 , -28.82467895, -29.1038526 , -29.38302624,\n",
       "       -29.66219989, -29.94137353, -30.22054718, -30.49972083,\n",
       "       -30.77889447, -31.05806812, -31.33724176, -31.61641541,\n",
       "       -31.89558906, -32.1747627 , -32.45393635, -32.73310999,\n",
       "       -33.01228364, -33.29145729, -33.57063093, -33.84980458,\n",
       "       -34.12897822, -34.40815187, -34.68732552, -34.96649916,\n",
       "       -35.24567281, -35.52484645, -35.8040201 , -36.08319375,\n",
       "       -36.36236739, -36.64154104, -36.92071468, -37.19988833,\n",
       "       -37.47906198, -37.75823562, -38.03740927, -38.31658291,\n",
       "       -38.59575656, -38.87493021, -39.15410385, -39.4332775 ,\n",
       "       -39.71245114, -39.99162479, -40.27079844, -40.54997208,\n",
       "       -40.82914573, -41.10831937, -41.38749302, -41.66666667])"
      ]
     },
     "execution_count": 30,
     "metadata": {},
     "output_type": "execute_result"
    }
   ],
   "source": [
    "y_c1"
   ]
  },
  {
   "cell_type": "code",
   "execution_count": null,
   "id": "be279192",
   "metadata": {},
   "outputs": [],
   "source": [
    "def visualize_lp(contraints, limits=10):\n",
    "    # standard figure parameters (constraints)\n",
    "    limits = 10\n",
    "    d = np.linspace(-limits, limits, 100)\n",
    "    x,y = np.meshgrid(d,d)\n",
    "\n",
    "    # constraint formulation in terms of x and ya\n",
    "    c1 = G11*x+G12*y <= CV1Hi\n",
    "    c2 = G11*x+G12*y >= CV1Lo\n",
    "    c3 = G21*x+G22*y <= CV2Hi\n",
    "    c4 = G21*x+G22*y >= CV2Lo\n",
    "\n",
    "    # equation of a line, y = mx + c\n",
    "    y_c1 = (CV1Hi - G11*d)/G12\n",
    "    y_c2 = (CV1Lo - G11*d)/G12\n",
    "    y_c3 = (CV2Hi - G21*d)/G22\n",
    "    y_c4 = (CV2Lo - G21*d)/G22    "
   ]
  }
 ],
 "metadata": {
  "kernelspec": {
   "display_name": "Python 3 (ipykernel)",
   "language": "python",
   "name": "python3"
  },
  "language_info": {
   "codemirror_mode": {
    "name": "ipython",
    "version": 3
   },
   "file_extension": ".py",
   "mimetype": "text/x-python",
   "name": "python",
   "nbconvert_exporter": "python",
   "pygments_lexer": "ipython3",
   "version": "3.8.8"
  }
 },
 "nbformat": 4,
 "nbformat_minor": 5
}
